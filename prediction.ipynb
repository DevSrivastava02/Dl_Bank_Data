{
 "cells": [
  {
   "cell_type": "markdown",
   "id": "f7585bba",
   "metadata": {},
   "source": [
    "Prediction of the trained ANN model"
   ]
  },
  {
   "cell_type": "markdown",
   "id": "206d7373",
   "metadata": {},
   "source": [
    "## LOAD the pickle file"
   ]
  },
  {
   "cell_type": "code",
   "execution_count": 1,
   "id": "98c7aa23",
   "metadata": {},
   "outputs": [
    {
     "name": "stdout",
     "output_type": "stream",
     "text": [
      "WARNING:tensorflow:From c:\\Users\\sriva\\Desktop\\ANN classification\\venv\\Lib\\site-packages\\keras\\src\\losses.py:2976: The name tf.losses.sparse_softmax_cross_entropy is deprecated. Please use tf.compat.v1.losses.sparse_softmax_cross_entropy instead.\n",
      "\n"
     ]
    }
   ],
   "source": [
    "import tensorflow as tf\n",
    "from tensorflow.keras.models import load_model\n",
    "import pickle\n",
    "import pandas as pd\n",
    "import numpy as np\n"
   ]
  },
  {
   "cell_type": "markdown",
   "id": "52651af1",
   "metadata": {},
   "source": [
    "## load the trained Model,scaler,pickle,onehot"
   ]
  },
  {
   "cell_type": "code",
   "execution_count": 2,
   "id": "567f69a6",
   "metadata": {},
   "outputs": [
    {
     "name": "stdout",
     "output_type": "stream",
     "text": [
      "WARNING:tensorflow:From c:\\Users\\sriva\\Desktop\\ANN classification\\venv\\Lib\\site-packages\\keras\\src\\backend.py:1398: The name tf.executing_eagerly_outside_functions is deprecated. Please use tf.compat.v1.executing_eagerly_outside_functions instead.\n",
      "\n"
     ]
    }
   ],
   "source": [
    "model=load_model(\"model.h5\")\n"
   ]
  },
  {
   "cell_type": "markdown",
   "id": "484c7e3e",
   "metadata": {},
   "source": [
    "LOAD THE ENCODER AND SCALER"
   ]
  },
  {
   "cell_type": "code",
   "execution_count": 3,
   "id": "e59bb8a4",
   "metadata": {},
   "outputs": [
    {
     "name": "stdout",
     "output_type": "stream",
     "text": [
      "OneHotEncoder()\n",
      "LabelEncoder()\n",
      "StandardScaler()\n"
     ]
    }
   ],
   "source": [
    "with open(\"One_hot_encoder1.pkl\",\"rb\") as file:\n",
    "    lobel1_encoder_geo=pickle.load(file)\n",
    "print(lobel1_encoder_geo)    \n",
    "with open(\"label_encoder-gender.pkl\",\"rb\") as file:\n",
    "    lobel_encoder_gender=pickle.load(file) \n",
    "print(lobel_encoder_gender)\n",
    "with open(\"scaler1.pkl\",\"rb\") as file:\n",
    "    scaler1=pickle.load(file)   \n",
    "print(scaler1)"
   ]
  },
  {
   "cell_type": "code",
   "execution_count": 4,
   "id": "6eafe4ec",
   "metadata": {},
   "outputs": [
    {
     "name": "stdout",
     "output_type": "stream",
     "text": [
      "<class 'sklearn.preprocessing._encoders.OneHotEncoder'>\n",
      "<class 'sklearn.preprocessing._data.StandardScaler'>\n"
     ]
    }
   ],
   "source": [
    "print(type(lobel1_encoder_geo))\n",
    "print(type(scaler1))\n"
   ]
  },
  {
   "cell_type": "markdown",
   "id": "63b4e7ff",
   "metadata": {},
   "source": [
    "EXAMPLE INPUT DATA"
   ]
  },
  {
   "cell_type": "code",
   "execution_count": 5,
   "id": "f0f2ec01",
   "metadata": {},
   "outputs": [
    {
     "name": "stdout",
     "output_type": "stream",
     "text": [
      "Current columns are: Index(['Geography', 'Gender', 'Age', 'Tenure', 'Balance', 'NumOfProducts',\n",
      "       'HasCrCard', 'IsActiveMember', 'EstimatedSalary'],\n",
      "      dtype='object')\n"
     ]
    }
   ],
   "source": [
    "Input_data={\n",
    "    \"Geography\": [\"Germany\"],\n",
    "    \"Gender\": [\"Male\"],\n",
    "    \"Age\": [26],\n",
    "    \"Tenure\": [3],\n",
    "    \"Balance\": [16262.898246319879],\n",
    "    \"NumOfProducts\": [3],\n",
    "    \"HasCrCard\": [1],\n",
    "    \"IsActiveMember\": [1],\n",
    "    \"EstimatedSalary\": [144369.9435306556],\n",
    "    \n",
    "}\n",
    "\n",
    "final_df = pd.DataFrame(Input_data)\n",
    "final_df\n",
    "print(\"Current columns are:\", final_df.columns)"
   ]
  },
  {
   "cell_type": "markdown",
   "id": "e7eb447f",
   "metadata": {},
   "source": [
    "ONE HOT ENCODE \"Geography\""
   ]
  },
  {
   "cell_type": "markdown",
   "id": "a245b5a6",
   "metadata": {},
   "source": [
    "ENCODE THE GENDER "
   ]
  },
  {
   "cell_type": "code",
   "execution_count": 6,
   "id": "91b60c72",
   "metadata": {},
   "outputs": [
    {
     "name": "stdout",
     "output_type": "stream",
     "text": [
      "Encoding 'Geography' column...\n",
      "Encoding complete. Columns are now:\n",
      "Index(['Gender', 'Age', 'Tenure', 'Balance', 'NumOfProducts', 'HasCrCard',\n",
      "       'IsActiveMember', 'EstimatedSalary', 'Geography_France',\n",
      "       'Geography_Germany', 'Geography_Spain'],\n",
      "      dtype='object')\n"
     ]
    },
    {
     "data": {
      "text/html": [
       "<div>\n",
       "<style scoped>\n",
       "    .dataframe tbody tr th:only-of-type {\n",
       "        vertical-align: middle;\n",
       "    }\n",
       "\n",
       "    .dataframe tbody tr th {\n",
       "        vertical-align: top;\n",
       "    }\n",
       "\n",
       "    .dataframe thead th {\n",
       "        text-align: right;\n",
       "    }\n",
       "</style>\n",
       "<table border=\"1\" class=\"dataframe\">\n",
       "  <thead>\n",
       "    <tr style=\"text-align: right;\">\n",
       "      <th></th>\n",
       "      <th>Gender</th>\n",
       "      <th>Age</th>\n",
       "      <th>Tenure</th>\n",
       "      <th>Balance</th>\n",
       "      <th>NumOfProducts</th>\n",
       "      <th>HasCrCard</th>\n",
       "      <th>IsActiveMember</th>\n",
       "      <th>EstimatedSalary</th>\n",
       "      <th>Geography_France</th>\n",
       "      <th>Geography_Germany</th>\n",
       "      <th>Geography_Spain</th>\n",
       "    </tr>\n",
       "  </thead>\n",
       "  <tbody>\n",
       "    <tr>\n",
       "      <th>0</th>\n",
       "      <td>Male</td>\n",
       "      <td>26</td>\n",
       "      <td>3</td>\n",
       "      <td>16262.898246</td>\n",
       "      <td>3</td>\n",
       "      <td>1</td>\n",
       "      <td>1</td>\n",
       "      <td>144369.943531</td>\n",
       "      <td>0.0</td>\n",
       "      <td>1.0</td>\n",
       "      <td>0.0</td>\n",
       "    </tr>\n",
       "  </tbody>\n",
       "</table>\n",
       "</div>"
      ],
      "text/plain": [
       "  Gender  Age  Tenure       Balance  NumOfProducts  HasCrCard  IsActiveMember  \\\n",
       "0   Male   26       3  16262.898246              3          1               1   \n",
       "\n",
       "   EstimatedSalary  Geography_France  Geography_Germany  Geography_Spain  \n",
       "0    144369.943531               0.0                1.0              0.0  "
      ]
     },
     "execution_count": 6,
     "metadata": {},
     "output_type": "execute_result"
    }
   ],
   "source": [
    "# --- All 'Geography' encoding steps in one cell ---\n",
    "\n",
    "# 1. Check if the 'Geography' column exists before trying to encode it\n",
    "if 'Geography' in final_df.columns:\n",
    "    print(\"Encoding 'Geography' column...\")\n",
    "\n",
    "    # 2. Transform the column and create a new DataFrame from it\n",
    "    geo_encoded = lobel1_encoder_geo.transform(final_df[['Geography']]).toarray()\n",
    "    geo_encoded_df = pd.DataFrame(geo_encoded,\n",
    "                                columns=lobel1_encoder_geo.get_feature_names_out(['Geography']),\n",
    "                                index=final_df.index) # Use the same index for a clean merge\n",
    "\n",
    "    # 3. Drop the original 'Geography' column\n",
    "    final_df = final_df.drop('Geography', axis=1)\n",
    "\n",
    "    # 4. Concatenate the original DataFrame with the new encoded one\n",
    "    final_df = pd.concat([final_df, geo_encoded_df], axis=1)\n",
    "\n",
    "    print(\"Encoding complete. Columns are now:\")\n",
    "    print(final_df.columns)\n",
    "else:\n",
    "    print(\"'Geography' column not found. It might have been encoded already.\")\n",
    "\n",
    "# Display the result\n",
    "final_df.head()"
   ]
  },
  {
   "cell_type": "markdown",
   "id": "8992d364",
   "metadata": {},
   "source": [
    "## encode the categorical variable For GENDER"
   ]
  },
  {
   "cell_type": "code",
   "execution_count": 7,
   "id": "003a63ce",
   "metadata": {},
   "outputs": [
    {
     "data": {
      "text/html": [
       "<div>\n",
       "<style scoped>\n",
       "    .dataframe tbody tr th:only-of-type {\n",
       "        vertical-align: middle;\n",
       "    }\n",
       "\n",
       "    .dataframe tbody tr th {\n",
       "        vertical-align: top;\n",
       "    }\n",
       "\n",
       "    .dataframe thead th {\n",
       "        text-align: right;\n",
       "    }\n",
       "</style>\n",
       "<table border=\"1\" class=\"dataframe\">\n",
       "  <thead>\n",
       "    <tr style=\"text-align: right;\">\n",
       "      <th></th>\n",
       "      <th>Gender</th>\n",
       "      <th>Age</th>\n",
       "      <th>Tenure</th>\n",
       "      <th>Balance</th>\n",
       "      <th>NumOfProducts</th>\n",
       "      <th>HasCrCard</th>\n",
       "      <th>IsActiveMember</th>\n",
       "      <th>EstimatedSalary</th>\n",
       "      <th>Geography_France</th>\n",
       "      <th>Geography_Germany</th>\n",
       "      <th>Geography_Spain</th>\n",
       "    </tr>\n",
       "  </thead>\n",
       "  <tbody>\n",
       "    <tr>\n",
       "      <th>0</th>\n",
       "      <td>1</td>\n",
       "      <td>26</td>\n",
       "      <td>3</td>\n",
       "      <td>16262.898246</td>\n",
       "      <td>3</td>\n",
       "      <td>1</td>\n",
       "      <td>1</td>\n",
       "      <td>144369.943531</td>\n",
       "      <td>0.0</td>\n",
       "      <td>1.0</td>\n",
       "      <td>0.0</td>\n",
       "    </tr>\n",
       "  </tbody>\n",
       "</table>\n",
       "</div>"
      ],
      "text/plain": [
       "   Gender  Age  Tenure       Balance  NumOfProducts  HasCrCard  \\\n",
       "0       1   26       3  16262.898246              3          1   \n",
       "\n",
       "   IsActiveMember  EstimatedSalary  Geography_France  Geography_Germany  \\\n",
       "0               1    144369.943531               0.0                1.0   \n",
       "\n",
       "   Geography_Spain  \n",
       "0              0.0  "
      ]
     },
     "execution_count": 7,
     "metadata": {},
     "output_type": "execute_result"
    }
   ],
   "source": [
    "final_df[\"Gender\"]=lobel_encoder_gender.transform(final_df[\"Gender\"])\n",
    "final_df"
   ]
  },
  {
   "cell_type": "markdown",
   "id": "da55710e",
   "metadata": {},
   "source": [
    "## Scaling the input data\n"
   ]
  },
  {
   "cell_type": "code",
   "execution_count": 8,
   "id": "ecee96c3",
   "metadata": {},
   "outputs": [
    {
     "data": {
      "text/plain": [
       "array([[ 0.8660254 , -1.37712154, -0.93019861, -1.66050557,  1.87082869,\n",
       "         0.63245553,  1.15470054,  1.62915249, -0.40824829,  0.63245553,\n",
       "        -0.40824829]])"
      ]
     },
     "execution_count": 8,
     "metadata": {},
     "output_type": "execute_result"
    }
   ],
   "source": [
    "# scaling the input frame\n",
    "\n",
    "final_scaler=scaler1.transform(final_df)\n",
    "final_scaler"
   ]
  },
  {
   "cell_type": "markdown",
   "id": "e1026abd",
   "metadata": {},
   "source": [
    "## PREDICTION CHURN"
   ]
  },
  {
   "cell_type": "code",
   "execution_count": 9,
   "id": "2c77f0a2",
   "metadata": {},
   "outputs": [
    {
     "name": "stdout",
     "output_type": "stream",
     "text": [
      "1/1 [==============================] - 0s 167ms/step\n"
     ]
    },
    {
     "data": {
      "text/plain": [
       "array([[0.46909475]], dtype=float32)"
      ]
     },
     "execution_count": 9,
     "metadata": {},
     "output_type": "execute_result"
    }
   ],
   "source": [
    "prediction=model.predict(final_scaler)\n",
    "prediction"
   ]
  },
  {
   "cell_type": "markdown",
   "id": "b4387915",
   "metadata": {},
   "source": [
    "also we can run this"
   ]
  },
  {
   "cell_type": "code",
   "execution_count": 10,
   "id": "34aa0a93",
   "metadata": {},
   "outputs": [
    {
     "data": {
      "text/plain": [
       "0.46909475"
      ]
     },
     "execution_count": 10,
     "metadata": {},
     "output_type": "execute_result"
    }
   ],
   "source": [
    "prediction_proba=prediction[0][0]\n",
    "prediction_proba"
   ]
  },
  {
   "cell_type": "markdown",
   "id": "f773ba6b",
   "metadata": {},
   "source": [
    "## OUTPUT of the prediction"
   ]
  },
  {
   "cell_type": "code",
   "execution_count": 11,
   "id": "12a269e5",
   "metadata": {},
   "outputs": [
    {
     "name": "stdout",
     "output_type": "stream",
     "text": [
      " The Customer is  not likly to churn\n"
     ]
    }
   ],
   "source": [
    "if prediction_proba>0.5:\n",
    "    print(\" The Customer is likly to churn\")\n",
    "\n",
    "else:\n",
    "    print(\" The Customer is  not likly to churn\")    "
   ]
  },
  {
   "cell_type": "markdown",
   "id": "9eb08076",
   "metadata": {},
   "source": [
    "import os\n",
    "os.getcwd()\n",
    "\n"
   ]
  }
 ],
 "metadata": {
  "kernelspec": {
   "display_name": "Python 3",
   "language": "python",
   "name": "python3"
  },
  "language_info": {
   "codemirror_mode": {
    "name": "ipython",
    "version": 3
   },
   "file_extension": ".py",
   "mimetype": "text/x-python",
   "name": "python",
   "nbconvert_exporter": "python",
   "pygments_lexer": "ipython3",
   "version": "3.11.0"
  }
 },
 "nbformat": 4,
 "nbformat_minor": 5
}
